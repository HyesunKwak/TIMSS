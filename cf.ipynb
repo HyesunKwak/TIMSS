{
 "metadata": {
  "language_info": {
   "codemirror_mode": {
    "name": "ipython",
    "version": 3
   },
   "file_extension": ".py",
   "mimetype": "text/x-python",
   "name": "python",
   "nbconvert_exporter": "python",
   "pygments_lexer": "ipython3",
   "version": "3.8.8"
  },
  "orig_nbformat": 2,
  "kernelspec": {
   "name": "python3",
   "display_name": "Python 3.8.8 64-bit ('TIMSS': conda)"
  },
  "interpreter": {
   "hash": "78f5661d620f15da2d7ebf46d380e255ae0f8832d77b7a8eae3fc965c4a733b8"
  }
 },
 "nbformat": 4,
 "nbformat_minor": 2,
 "cells": [
  {
   "cell_type": "code",
   "execution_count": 25,
   "source": [
    "import pandas as pd\n",
    "from math import sqrt\n",
    "import numpy as np\n",
    "import matplotlib.pyplot as plt\n",
    "import scipy.cluster.hierarchy as sch\n",
    "import random\n",
    "import copy\n",
    "%matplotlib inline"
   ],
   "outputs": [],
   "metadata": {}
  },
  {
   "cell_type": "code",
   "execution_count": 2,
   "source": [
    "user_data = pd.read_csv('17_Number_data.csv', index_col=0)\n",
    "user_data"
   ],
   "outputs": [
    {
     "output_type": "execute_result",
     "data": {
      "text/plain": [
       "           MP61026   MP61273   MP61034   MP61040   MP61228   MP61166  \\\n",
       "IDSTUD                                                                 \n",
       "50030203         1       1.0       1.0       1.0       1.0       1.0   \n",
       "50030211         1       1.0       1.0       0.0       0.0       1.0   \n",
       "50040408         1       1.0       0.0       1.0       0.0       1.0   \n",
       "50040416         1       0.0       0.0       1.0       0.0       1.0   \n",
       "50040424         1       1.0       1.0       0.0       0.0       1.0   \n",
       "...            ...       ...       ...       ...       ...       ...   \n",
       "51680206         1       1.0       0.0       1.0       0.0       1.0   \n",
       "51680214         1       1.0       1.0       1.0       0.0       1.0   \n",
       "51690506         1       1.0       0.0       0.0       0.0       1.0   \n",
       "51690514         1       1.0       1.0       1.0       1.0       1.0   \n",
       "51690522         1       1.0       0.0       1.0       0.0       1.0   \n",
       "\n",
       "           MP61171   MP61222   MP61275   MP61027   MP61255   MP61021  \\\n",
       "IDSTUD                                                                 \n",
       "50030203       1.0       1.0       1.0         0       0.0       1.0   \n",
       "50030211       1.0       1.0       1.0         1       0.0       1.0   \n",
       "50040408       1.0       1.0       0.0         1       1.0       0.0   \n",
       "50040416       1.0       0.0       1.0         0       0.0       0.0   \n",
       "50040424       1.0       1.0       1.0         1       1.0       0.0   \n",
       "...            ...       ...       ...       ...       ...       ...   \n",
       "51680206       1.0       1.0       1.0         1       0.0       0.0   \n",
       "51680214       1.0       0.0       1.0         1       1.0       1.0   \n",
       "51690506       1.0       1.0       1.0         0       1.0       0.0   \n",
       "51690514       1.0       1.0       1.0         1       1.0       1.0   \n",
       "51690522       1.0       1.0       1.0         1       1.0       1.0   \n",
       "\n",
       "           MP61043   MP61151   MP61172   MP61223  \n",
       "IDSTUD                                            \n",
       "50030203         1       1.0       1.0         1  \n",
       "50030211         0       1.0       0.0         1  \n",
       "50040408         1       1.0       1.0         1  \n",
       "50040416         1       1.0       1.0         1  \n",
       "50040424         1       1.0       0.0         1  \n",
       "...            ...       ...       ...       ...  \n",
       "51680206         1       NaN       0.0         1  \n",
       "51680214         1       1.0       1.0         1  \n",
       "51690506         1       1.0       1.0         1  \n",
       "51690514         1       1.0       1.0         1  \n",
       "51690522         1       1.0       1.0         1  \n",
       "\n",
       "[198 rows x 16 columns]"
      ],
      "text/html": "<div>\n<style scoped>\n    .dataframe tbody tr th:only-of-type {\n        vertical-align: middle;\n    }\n\n    .dataframe tbody tr th {\n        vertical-align: top;\n    }\n\n    .dataframe thead th {\n        text-align: right;\n    }\n</style>\n<table border=\"1\" class=\"dataframe\">\n  <thead>\n    <tr style=\"text-align: right;\">\n      <th></th>\n      <th>MP61026</th>\n      <th>MP61273</th>\n      <th>MP61034</th>\n      <th>MP61040</th>\n      <th>MP61228</th>\n      <th>MP61166</th>\n      <th>MP61171</th>\n      <th>MP61222</th>\n      <th>MP61275</th>\n      <th>MP61027</th>\n      <th>MP61255</th>\n      <th>MP61021</th>\n      <th>MP61043</th>\n      <th>MP61151</th>\n      <th>MP61172</th>\n      <th>MP61223</th>\n    </tr>\n    <tr>\n      <th>IDSTUD</th>\n      <th></th>\n      <th></th>\n      <th></th>\n      <th></th>\n      <th></th>\n      <th></th>\n      <th></th>\n      <th></th>\n      <th></th>\n      <th></th>\n      <th></th>\n      <th></th>\n      <th></th>\n      <th></th>\n      <th></th>\n      <th></th>\n    </tr>\n  </thead>\n  <tbody>\n    <tr>\n      <th>50030203</th>\n      <td>1</td>\n      <td>1.0</td>\n      <td>1.0</td>\n      <td>1.0</td>\n      <td>1.0</td>\n      <td>1.0</td>\n      <td>1.0</td>\n      <td>1.0</td>\n      <td>1.0</td>\n      <td>0</td>\n      <td>0.0</td>\n      <td>1.0</td>\n      <td>1</td>\n      <td>1.0</td>\n      <td>1.0</td>\n      <td>1</td>\n    </tr>\n    <tr>\n      <th>50030211</th>\n      <td>1</td>\n      <td>1.0</td>\n      <td>1.0</td>\n      <td>0.0</td>\n      <td>0.0</td>\n      <td>1.0</td>\n      <td>1.0</td>\n      <td>1.0</td>\n      <td>1.0</td>\n      <td>1</td>\n      <td>0.0</td>\n      <td>1.0</td>\n      <td>0</td>\n      <td>1.0</td>\n      <td>0.0</td>\n      <td>1</td>\n    </tr>\n    <tr>\n      <th>50040408</th>\n      <td>1</td>\n      <td>1.0</td>\n      <td>0.0</td>\n      <td>1.0</td>\n      <td>0.0</td>\n      <td>1.0</td>\n      <td>1.0</td>\n      <td>1.0</td>\n      <td>0.0</td>\n      <td>1</td>\n      <td>1.0</td>\n      <td>0.0</td>\n      <td>1</td>\n      <td>1.0</td>\n      <td>1.0</td>\n      <td>1</td>\n    </tr>\n    <tr>\n      <th>50040416</th>\n      <td>1</td>\n      <td>0.0</td>\n      <td>0.0</td>\n      <td>1.0</td>\n      <td>0.0</td>\n      <td>1.0</td>\n      <td>1.0</td>\n      <td>0.0</td>\n      <td>1.0</td>\n      <td>0</td>\n      <td>0.0</td>\n      <td>0.0</td>\n      <td>1</td>\n      <td>1.0</td>\n      <td>1.0</td>\n      <td>1</td>\n    </tr>\n    <tr>\n      <th>50040424</th>\n      <td>1</td>\n      <td>1.0</td>\n      <td>1.0</td>\n      <td>0.0</td>\n      <td>0.0</td>\n      <td>1.0</td>\n      <td>1.0</td>\n      <td>1.0</td>\n      <td>1.0</td>\n      <td>1</td>\n      <td>1.0</td>\n      <td>0.0</td>\n      <td>1</td>\n      <td>1.0</td>\n      <td>0.0</td>\n      <td>1</td>\n    </tr>\n    <tr>\n      <th>...</th>\n      <td>...</td>\n      <td>...</td>\n      <td>...</td>\n      <td>...</td>\n      <td>...</td>\n      <td>...</td>\n      <td>...</td>\n      <td>...</td>\n      <td>...</td>\n      <td>...</td>\n      <td>...</td>\n      <td>...</td>\n      <td>...</td>\n      <td>...</td>\n      <td>...</td>\n      <td>...</td>\n    </tr>\n    <tr>\n      <th>51680206</th>\n      <td>1</td>\n      <td>1.0</td>\n      <td>0.0</td>\n      <td>1.0</td>\n      <td>0.0</td>\n      <td>1.0</td>\n      <td>1.0</td>\n      <td>1.0</td>\n      <td>1.0</td>\n      <td>1</td>\n      <td>0.0</td>\n      <td>0.0</td>\n      <td>1</td>\n      <td>NaN</td>\n      <td>0.0</td>\n      <td>1</td>\n    </tr>\n    <tr>\n      <th>51680214</th>\n      <td>1</td>\n      <td>1.0</td>\n      <td>1.0</td>\n      <td>1.0</td>\n      <td>0.0</td>\n      <td>1.0</td>\n      <td>1.0</td>\n      <td>0.0</td>\n      <td>1.0</td>\n      <td>1</td>\n      <td>1.0</td>\n      <td>1.0</td>\n      <td>1</td>\n      <td>1.0</td>\n      <td>1.0</td>\n      <td>1</td>\n    </tr>\n    <tr>\n      <th>51690506</th>\n      <td>1</td>\n      <td>1.0</td>\n      <td>0.0</td>\n      <td>0.0</td>\n      <td>0.0</td>\n      <td>1.0</td>\n      <td>1.0</td>\n      <td>1.0</td>\n      <td>1.0</td>\n      <td>0</td>\n      <td>1.0</td>\n      <td>0.0</td>\n      <td>1</td>\n      <td>1.0</td>\n      <td>1.0</td>\n      <td>1</td>\n    </tr>\n    <tr>\n      <th>51690514</th>\n      <td>1</td>\n      <td>1.0</td>\n      <td>1.0</td>\n      <td>1.0</td>\n      <td>1.0</td>\n      <td>1.0</td>\n      <td>1.0</td>\n      <td>1.0</td>\n      <td>1.0</td>\n      <td>1</td>\n      <td>1.0</td>\n      <td>1.0</td>\n      <td>1</td>\n      <td>1.0</td>\n      <td>1.0</td>\n      <td>1</td>\n    </tr>\n    <tr>\n      <th>51690522</th>\n      <td>1</td>\n      <td>1.0</td>\n      <td>0.0</td>\n      <td>1.0</td>\n      <td>0.0</td>\n      <td>1.0</td>\n      <td>1.0</td>\n      <td>1.0</td>\n      <td>1.0</td>\n      <td>1</td>\n      <td>1.0</td>\n      <td>1.0</td>\n      <td>1</td>\n      <td>1.0</td>\n      <td>1.0</td>\n      <td>1</td>\n    </tr>\n  </tbody>\n</table>\n<p>198 rows × 16 columns</p>\n</div>"
     },
     "metadata": {},
     "execution_count": 2
    }
   ],
   "metadata": {}
  },
  {
   "cell_type": "code",
   "execution_count": 3,
   "metadata": {
    "tags": []
   },
   "outputs": [
    {
     "output_type": "stream",
     "name": "stdout",
     "text": [
      "{' MP61026': 1, ' MP61273': 1.0, ' MP61034': 1.0, ' MP61040': 1.0, ' MP61228': 1.0, ' MP61166': 1.0, ' MP61171': 1.0, ' MP61222': 1.0, ' MP61275': 1.0, ' MP61027': 0, ' MP61255': 0.0, ' MP61021': 1.0, ' MP61043': 1, ' MP61151': 1.0, ' MP61172': 1.0, ' MP61223': 1}\n"
     ]
    }
   ],
   "source": [
    "user_dict = user_data.to_dict('index')\n",
    "users = user_data.axes[0].tolist()\n",
    "items = user_data.columns.tolist()\n",
    "print(user_dict[50030203])"
   ]
  },
  {
   "cell_type": "code",
   "execution_count": 8,
   "metadata": {},
   "outputs": [
    {
     "output_type": "stream",
     "name": "stdout",
     "text": [
      "{50030203: 1.0, 50030211: 1.0, 50040408: 1.0, 50040416: 1.0, 50040424: 1.0, 50060207: 1.0, 50060215: 1.0, 50080207: 1.0, 50080215: 1.0, 50080223: 1.0, 50090604: 1.0, 50090612: 1.0, 50090620: 1.0, 50090628: 0.0, 50100106: 1.0, 50100114: 1.0, 50100122: 1.0, 50110508: 1.0, 50110516: 1.0, 50150302: 1.0, 50220306: 0.0, 50220314: 1.0, 50220322: 0.0, 50230102: 1.0, 50250404: 1.0, 50250412: 1.0, 50250420: 1.0, 50260216: 1.0, 50260224: 1.0, 50270902: 1.0, 50270910: 1.0, 50270918: 1.0, 50270926: 1.0, 50280202: 1.0, 50280210: 1.0, 50280218: 1.0, 50280226: 1.0, 50280234: 1.0, 50330502: 1.0, 50330510: 1.0, 50330518: 1.0, 50350302: 1.0, 50350310: 0.0, 50350318: 1.0, 50400508: 1.0, 50400516: 1.0, 50400524: 1.0, 50420405: 1.0, 50420413: 1.0, 50420421: 1.0, 50420429: 1.0, 50430303: 1.0, 50430311: 1.0, 50430319: 1.0, 50450103: 0.0, 50450111: 1.0, 50450119: 1.0, 50450127: 1.0, 50460110: 1.0, 50460118: 1.0, 50460126: 1.0, 50520108: 1.0, 50520116: 1.0, 50520124: 1.0, 50570104: 1.0, 50570112: 1.0, 50570120: 1.0, 50580211: 1.0, 50610403: 1.0, 50610411: 1.0, 50610419: 0.0, 50620107: 1.0, 50620115: 1.0, 50630402: 1.0, 50630410: 1.0, 50630418: 1.0, 50720502: 1.0, 50720510: 1.0, 50720518: 1.0, 50730204: 1.0, 50730212: 1.0, 50730220: 1.0, 50740506: 1.0, 50740514: 1.0, 50740522: 1.0, 50790110: 1.0, 50790118: 1.0, 50820808: 1.0, 50820816: 1.0, 50820824: 1.0, 50840503: 1.0, 50840511: 1.0, 50840519: 1.0, 50860406: 1.0, 50860414: 1.0, 50860422: 1.0, 50890103: 1.0, 50890111: 1.0, 50890119: 1.0, 50900108: 1.0, 50920507: 1.0, 50920515: 1.0, 50920523: 1.0, 50960201: 1.0, 50960209: 1.0, 50960217: 1.0, 50970502: 1.0, 50970510: 0.0, 50970518: 1.0, 50970526: 1.0, 50980303: 1.0, 50980311: 1.0, 50980319: 1.0, 51030104: 1.0, 51030112: 1.0, 51030120: 1.0, 51060303: 1.0, 51060311: 1.0, 51060319: 1.0, 51060327: 1.0, 51110602: 1.0, 51110610: 1.0, 51110618: 1.0, 51110626: 1.0, 51150401: 1.0, 51150409: 1.0, 51150417: 1.0, 51180401: 1.0, 51180409: 1.0, 51180417: 1.0, 51180425: 1.0, 51190308: 1.0, 51190316: 1.0, 51210105: 1.0, 51210113: 1.0, 51220302: 1.0, 51220310: 1.0, 51220318: 1.0, 51300107: 1.0, 51300115: 1.0, 51300123: 1.0, 51330805: 1.0, 51330813: 1.0, 51330821: 0.0, 51340702: 1.0, 51340710: 1.0, 51340718: 1.0, 51340726: 1.0, 51350101: 1.0, 51350109: 1.0, 51350117: 1.0, 51410505: 1.0, 51410513: 1.0, 51410521: 1.0, 51410529: 0.0, 51420405: 1.0, 51420413: 1.0, 51420421: 1.0, 51430201: 1.0, 51430209: 1.0, 51430217: 1.0, 51430225: 1.0, 51460102: 1.0, 51460110: 1.0, 51460118: 1.0, 51470108: 1.0, 51470116: 1.0, 51470124: 1.0, 51480706: 1.0, 51480714: 1.0, 51480722: 1.0, 51500507: 1.0, 51500515: 1.0, 51500523: 1.0, 51540308: 1.0, 51540316: 1.0, 51550506: 1.0, 51550514: 1.0, 51550522: 1.0, 51570106: 1.0, 51570114: 1.0, 51570122: 1.0, 51570130: 1.0, 51630606: 1.0, 51630614: 1.0, 51630622: 1.0, 51660403: 1.0, 51660411: 1.0, 51660419: 1.0, 51660427: 1.0, 51670101: 1.0, 51670109: 1.0, 51670117: 1.0, 51680206: 1.0, 51680214: 1.0, 51690506: 1.0, 51690514: 1.0, 51690522: 1.0}\n"
     ]
    }
   ],
   "source": [
    "item_data = user_data.transpose()\n",
    "item_dict = item_data.to_dict('index')\n",
    "print(item_dict[' MP61026'])"
   ]
  },
  {
   "cell_type": "code",
   "execution_count": 30,
   "metadata": {},
   "outputs": [],
   "source": [
    "def cosine_sim_user(user1, user2, dictionary):\n",
    "    sumsq1 = 0\n",
    "    sumsq2 = 0\n",
    "    innerprod = 0\n",
    "    for item in items:\n",
    "        rating1 = dictionary[user1][item]\n",
    "        rating2 = dictionary[user2][item]\n",
    "        if not np.isnan(rating1) and not np.isnan(rating2):\n",
    "            sumsq1 += pow(rating1, 2)\n",
    "            sumsq2 += pow(rating2, 2)\n",
    "            innerprod += rating1 * rating2\n",
    "    if sumsq1 * sumsq2 == 0:\n",
    "        print(user1, sumsq1, user2, sumsq2)\n",
    "    return innerprod / (sqrt(sumsq1) * sqrt(sumsq2))\n",
    "\n",
    "def cosine_sim_item(item1, item2, dictionary):\n",
    "    sumsq1 = 0\n",
    "    sumsq2 = 0\n",
    "    innerprod = 0\n",
    "    for user in users:\n",
    "        rating1 = dictionary[item1][user]\n",
    "        rating2 = dictionary[item2][user]\n",
    "        if not np.isnan(rating1) and not np.isnan(rating2):\n",
    "            sumsq1 += pow(rating1, 2)\n",
    "            sumsq2 += pow(rating2, 2)\n",
    "            innerprod += rating1 * rating2\n",
    "    return innerprod / (sqrt(sumsq1) * sqrt(sumsq2))\n",
    "\n",
    "def cosine_sim_avg_user(avg, user2, dictionary):\n",
    "    sumsq1 = 0\n",
    "    sumsq2 = 0\n",
    "    innerprod = 0\n",
    "    for item in items:\n",
    "        rating1 = avg[item]\n",
    "        rating2 = dictionary[user2][item]\n",
    "        if not np.isnan(rating1) and not np.isnan(rating2):\n",
    "            sumsq1 += pow(rating1, 2)\n",
    "            sumsq2 += pow(rating2, 2)\n",
    "            innerprod += rating1 * rating2\n",
    "    return innerprod / (sqrt(sumsq1) * sqrt(sumsq2))\n",
    "\n",
    "def cosine_sim_avg_item(avg, item2, dictionary):\n",
    "    sumsq1 = 0\n",
    "    sumsq2 = 0\n",
    "    innerprod = 0\n",
    "    for user in users:\n",
    "        rating1 = avg[user]\n",
    "        rating2 = dictionary[item2][user]\n",
    "        if not np.isnan(rating1) and not np.isnan(rating2):\n",
    "            sumsq1 += pow(rating1, 2)\n",
    "            sumsq2 += pow(rating2, 2)\n",
    "            innerprod += rating1 * rating2\n",
    "    return innerprod / (sqrt(sumsq1) * sqrt(sumsq2))\n",
    "\n",
    "def similarity(obj, obj1, obj2, dictionary):\n",
    "    if obj == 'user':\n",
    "        return cosine_sim_user(obj1, obj2, dictionary)\n",
    "    elif obj == 'item':\n",
    "        return cosine_sim_item(obj1, obj2, dictionary)\n",
    "    else:\n",
    "        raise ValueError\n",
    "\n",
    "def similarity_avg(obj, avg, obj2, dictionary):\n",
    "    if obj == 'user':\n",
    "        return cosine_sim_avg_user(avg, obj2, dictionary)\n",
    "    elif obj == 'item':\n",
    "        return cosine_sim_avg_item(avg, obj2, dictionary)\n",
    "    else:\n",
    "        raise ValueError"
   ]
  },
  {
   "cell_type": "code",
   "execution_count": 5,
   "metadata": {},
   "outputs": [],
   "source": [
    "def clustering(obj, users, items, dictionary, k):\n",
    "    simname = 'cosine'\n",
    "    center_users = users[:k]\n",
    "    while True:\n",
    "        clusters = {}\n",
    "        for i in range(k):\n",
    "            clusters[center_users[i]] = []\n",
    "\n",
    "        for user in users:\n",
    "            max_sim = -1\n",
    "            max_sim_center_user = []\n",
    "            for center_user in center_users:\n",
    "                sim = similarity(obj, user, center_user, dictionary)\n",
    "                if sim > max_sim:\n",
    "                    max_sim_center_user = [center_user]\n",
    "                    max_sim = sim\n",
    "                elif sim == max_sim:\n",
    "                    max_sim_center_user.append(center_user)\n",
    "            cnt = len(max_sim_center_user)\n",
    "            chosen = max_sim_center_user[random.randint(0, cnt - 1)]\n",
    "            clusters[chosen].append(user)\n",
    "\n",
    "        new_center_users = []\n",
    "        for cluster_center in clusters:\n",
    "            cluster = clusters[cluster_center]\n",
    "            average = {}\n",
    "            for item in items:\n",
    "                sum = 0\n",
    "                count = 0\n",
    "                for user in cluster:\n",
    "                    rating = dictionary[user][item]\n",
    "                    if not np.isnan(rating):\n",
    "                        sum += rating\n",
    "                        count += 1\n",
    "                if count == 0:\n",
    "                    average[item] = float('NaN')\n",
    "                else: \n",
    "                    average[item] = sum / count\n",
    "\n",
    "            max_sim = -1\n",
    "            max_sim_user = -1\n",
    "            for user in cluster:\n",
    "                sim = similarity_avg(obj, average, user, dictionary)\n",
    "                if sim > max_sim:\n",
    "                    max_sim_user = user\n",
    "                    max_sim = sim\n",
    "            new_center_users.append(max_sim_user)\n",
    "\n",
    "        if set(new_center_users) == set(center_users):\n",
    "            break        \n",
    "\n",
    "        center_users = new_center_users\n",
    "    return clusters"
   ]
  },
  {
   "cell_type": "code",
   "execution_count": 182,
   "metadata": {
    "tags": []
   },
   "outputs": [
    {
     "output_type": "stream",
     "name": "stdout",
     "text": [
      "{51470108: [50030203, 50060207, 50060215, 50080223, 50090604, 50090620, 50100114, 50100122, 50110508, 50150302, 50220322, 50230102, 50250404, 50250420, 50260224, 50270918, 50280202, 50280218, 50280226, 50280234, 50330518, 50350318, 50400508, 50400516, 50400524, 50420405, 50420413, 50420421, 50420429, 50430311, 50430319, 50450119, 50450127, 50460126, 50520108, 50520116, 50520124, 50570104, 50610403, 50610411, 50620115, 50630402, 50630410, 50630418, 50720502, 50720510, 50740522, 50790110, 50790118, 50820816, 50840511, 50840519, 50860406, 50860414, 50860422, 50890119, 50920507, 50920523, 50960209, 50960217, 50970502, 50970518, 50970526, 50980303, 50980311, 51030112, 51060311, 51060319, 51060327, 51150401, 51150409, 51180401, 51180409, 51180417, 51190316, 51210105, 51220310, 51220318, 51300107, 51330805, 51330813, 51340710, 51340718, 51350101, 51410513, 51410521, 51420405, 51420413, 51430201, 51430209, 51430217, 51470108, 51470124, 51480706, 51480722, 51500507, 51500515, 51500523, 51540308, 51540316, 51550506, 51550514, 51550522, 51570106, 51570114, 51570122, 51570130, 51630606, 51630614, 51630622, 51660419, 51670101, 51670109, 51680214, 51690514, 51690522], 50030211: [50030211, 50080207, 50090612, 50220306, 50270926, 50720518, 50730220, 50920515, 51110626, 51300115, 51340702, 51350109, 51420421, 51670117], 51180425: [50040408, 50080215, 50110516, 50220314, 50260216, 50270902, 50270910, 50350302, 50350310, 50430303, 50450103, 50450111, 50460118, 50570112, 50620107, 50820824, 50840503, 50890103, 50890111, 50980319, 51180425, 51220302, 51300123, 51410529, 51430225, 51460102, 51480714, 51660411, 51660427, 51680206, 51690506], 51030120: [50040416, 50460110, 50580203, 50580211, 50740506, 51030120, 51150417, 51460118, 51470116, 51660403], 50040424: [50040424, 50090628, 50100106, 50250412, 50280210, 50330502, 50330510, 50570120, 50610419, 50730204, 50730212, 50740514, 50820808, 50900108, 50960201, 50970510, 51030104, 51060303, 51110602, 51110610, 51110618, 51190308, 51210113, 51330821, 51340726, 51350117, 51410505, 51460110]}\n"
     ]
    }
   ],
   "source": [
    "## User Clustering\n",
    "user_cluster = clustering('user', users, items, 5)\n",
    "print(user_cluster)"
   ]
  },
  {
   "cell_type": "code",
   "execution_count": 183,
   "metadata": {},
   "outputs": [],
   "source": [
    "## Fill Empty\n",
    "for cluster_center in clusters:\n",
    "    cluster = clusters[cluster_center]\n",
    "    for item in items:\n",
    "        empty_list = []\n",
    "        sum = 0\n",
    "        count = 0\n",
    "        for user in clusters:\n",
    "            rating = user_dict[user][item]\n",
    "            if np.isnan(rating):\n",
    "                empty_list.append(user)\n",
    "            else:\n",
    "                sum += rating\n",
    "                count += 1\n",
    "        average = sum / count\n",
    "        for empty in empty_list:\n",
    "            item_dict[item][empty] = average"
   ]
  },
  {
   "cell_type": "code",
   "execution_count": 184,
   "metadata": {},
   "outputs": [
    {
     "output_type": "stream",
     "name": "stdout",
     "text": [
      "{' MP61026': [' MP61026', ' MP61034', ' MP61040', ' MP61228', ' MP61166', ' MP61171', ' MP61222', ' MP61275', ' MP61027', ' MP61255', ' MP61043', ' MP61151', ' MP61172', ' MP61223'], ' MP61273': [' MP61273', ' MP61021']}\n"
     ]
    }
   ],
   "source": [
    "## Item Clustering\n",
    "item_cluster = clustering('item', items, users, 2)\n",
    "print(item_cluster)"
   ]
  },
  {
   "cell_type": "code",
   "execution_count": 175,
   "source": [
    "## Collaborative Filtering & Evaluation\n",
    "random.shuffle(users)\n",
    "print(users)"
   ],
   "outputs": [
    {
     "output_type": "stream",
     "name": "stdout",
     "text": [
      "[50030203, 50030211, 50040408, 50040416, 50040424, 50060207, 50060215, 50080207, 50080215, 50080223, 50090604, 50090612, 50090620, 50090628, 50100106, 50100114, 50100122, 50110508, 50110516, 50150302, 50220306, 50220314, 50220322, 50230102, 50250404, 50250412, 50250420, 50260216, 50260224, 50270902, 50270910, 50270918, 50270926, 50280202, 50280210, 50280218, 50280226, 50280234, 50330502, 50330510, 50330518, 50350302, 50350310, 50350318, 50400508, 50400516, 50400524, 50420405, 50420413, 50420421, 50420429, 50430303, 50430311, 50430319, 50450103, 50450111, 50450119, 50450127, 50460110, 50460118, 50460126, 50520108, 50520116, 50520124, 50570104, 50570112, 50570120, 50580203, 50580211, 50610403, 50610411, 50610419, 50620107, 50620115, 50630402, 50630410, 50630418, 50720502, 50720510, 50720518, 50730204, 50730212, 50730220, 50740506, 50740514, 50740522, 50790110, 50790118, 50820808, 50820816, 50820824, 50840503, 50840511, 50840519, 50860406, 50860414, 50860422, 50890103, 50890111, 50890119, 50900108, 50920507, 50920515, 50920523, 50960201, 50960209, 50960217, 50970502, 50970510, 50970518, 50970526, 50980303, 50980311, 50980319, 51030104, 51030112, 51030120, 51060303, 51060311, 51060319, 51060327, 51110602, 51110610, 51110618, 51110626, 51150401, 51150409, 51150417, 51180401, 51180409, 51180417, 51180425, 51190308, 51190316, 51210105, 51210113, 51220302, 51220310, 51220318, 51300107, 51300115, 51300123, 51330805, 51330813, 51330821, 51340702, 51340710, 51340718, 51340726, 51350101, 51350109, 51350117, 51410505, 51410513, 51410521, 51410529, 51420405, 51420413, 51420421, 51430201, 51430209, 51430217, 51430225, 51460102, 51460110, 51460118, 51470108, 51470116, 51470124, 51480706, 51480714, 51480722, 51500507, 51500515, 51500523, 51540308, 51540316, 51550506, 51550514, 51550522, 51570106, 51570114, 51570122, 51570130, 51630606, 51630614, 51630622, 51660403, 51660411, 51660419, 51660427, 51670101, 51670109, 51670117, 51680206, 51680214, 51690506, 51690514, 51690522]\n[51480714, 51500515, 50030203, 50630410, 50520116, 50620107, 51690522, 51060303, 51300115, 51430201, 50570120, 50080223, 50630418, 50890111, 50570104, 51420405, 50450127, 50460110, 51030112, 51480706, 50920523, 50580203, 50060207, 51150401, 50840503, 50280234, 50980319, 51680214, 50260216, 50790118, 50090612, 51660403, 50720518, 50250412, 50860414, 50080215, 51460102, 50090620, 51340710, 50430303, 50620115, 51460118, 51630606, 51030104, 51550514, 50400508, 50250420, 50110516, 51110618, 50270902, 51550522, 50260224, 51410513, 50890103, 51540308, 50890119, 50270926, 50960201, 51350117, 50970502, 50860406, 50280218, 50220306, 50960209, 51500523, 50740514, 50420413, 51300107, 50980303, 50100106, 50420429, 51470116, 51300123, 50860422, 50960217, 51340718, 50920507, 50630402, 50570112, 51570114, 50270910, 50430311, 50250404, 50330510, 51330821, 50400524, 51340702, 51430225, 51430209, 51060319, 50220322, 51180425, 51060327, 51630622, 51030120, 50090604, 51670117, 50280202, 51570130, 51060311, 51110602, 50090628, 50730204, 51630614, 50610411, 50420421, 51670109, 50400516, 50280226, 50270918, 50150302, 50220314, 50820816, 51410521, 50840511, 51180401, 50740506, 51210113, 50350318, 51220302, 51350109, 51570106, 50350310, 50520108, 50040424, 51410529, 50430319, 51220310, 50790110, 51470108, 50030211, 50580211, 51110610, 51350101, 50970510, 51430217, 51150409, 50100122, 50920515, 50980311, 50100114, 51110626, 51690506, 50740522, 51180417, 50420405, 50730212, 50900108, 50330518, 51570122, 51410505, 51670101, 50610403, 51470124, 50450103, 50040408, 51680206, 51420421, 51480722, 50970518, 51420413, 51460110, 51220318, 50350302, 51550506, 50040416, 51210105, 51500507, 51690514, 51660411, 50820824, 50460118, 51330805, 50730220, 50280210, 50820808, 51150417, 50460126, 51330813, 50720510, 50060215, 50450119, 51180409, 50840519, 51190316, 50450111, 51340726, 50110508, 51540316, 50080207, 50330502, 50610419, 50970526, 51660419, 50720502, 50520124, 50230102, 51190308, 51660427]\n"
     ]
    }
   ],
   "metadata": {}
  },
  {
   "cell_type": "code",
   "execution_count": 59,
   "metadata": {
    "tags": []
   },
   "outputs": [
    {
     "output_type": "stream",
     "name": "stdout",
     "text": [
      "round00\n",
      "round01\n",
      "round10\n",
      "round11\n",
      "round20\n",
      "round21\n",
      "round30\n",
      "round31\n",
      "round40\n",
      "round41\n",
      "round50\n",
      "round51\n",
      "round60\n",
      "round61\n",
      "round70\n",
      "round71\n",
      "round80\n",
      "round81\n",
      "round90\n",
      "round91\n",
      "-------------------------------------------\n",
      "MAE: 0.3138715605220808\n",
      "precision: 0.8021462463026057\n",
      "recall: 0.8405504811134501\n",
      "accuracy: 0.7255811629623188\n"
     ]
    }
   ],
   "source": [
    "## Cross Validation\n",
    "org_user_data = pd.read_csv('17_Number_data.csv', index_col=0)\n",
    "org_user_dict = org_user_data.to_dict('index')\n",
    "org_item_data = user_data.transpose()\n",
    "org_item_dict = org_item_data.to_dict('index')\n",
    "\n",
    "user_fold = 10\n",
    "item_fold = 2\n",
    "user_p = [0, 20, 40, 60, 80, 100, 120, 140, 160, 179, 198]\n",
    "item_p = [0, 8, 16]\n",
    "\n",
    "total_sum = 0\n",
    "total_accuracy = 0\n",
    "total_precision = 0\n",
    "total_recall = 0\n",
    "total_count = user_fold * item_fold\n",
    "for i in range(user_fold):\n",
    "    for j in range(item_fold):\n",
    "        print(f'round{i}{j}')\n",
    "        train_user_dict = copy.deepcopy(org_user_dict)\n",
    "        train_item_dict = copy.deepcopy(org_item_dict)\n",
    "        test_users = users[user_p[i]:user_p[i+1]]\n",
    "        test_items = items[item_p[j]:item_p[j+1]]\n",
    "        train_users = [user for user in users if user not in test_users]\n",
    "        train_items = [item for item in items if item not in test_items]\n",
    "        for user in test_users:\n",
    "            for item in test_items:\n",
    "                train_user_dict[user][item] = float('NaN')\n",
    "                train_item_dict[item][user] = float('NaN')\n",
    "\n",
    "        ## User Clustering\n",
    "        user_cluster = clustering('user', users, items, train_user_dict, 5)\n",
    "        ## Fill Empty\n",
    "        for cluster_center in user_cluster:\n",
    "            cluster = user_cluster[cluster_center]\n",
    "            for item in train_items:\n",
    "                empty_list = []\n",
    "                sum = 0\n",
    "                count = 0\n",
    "                for user in cluster:\n",
    "                    rating = train_user_dict[user][item]\n",
    "                    if user not in test_users:\n",
    "                        if np.isnan(rating):\n",
    "                            empty_list.append(user)\n",
    "                        else:\n",
    "                            sum += rating\n",
    "                            count += 1\n",
    "                if count == 0: continue\n",
    "                average = sum / count\n",
    "                for empty in empty_list:\n",
    "                    train_item_dict[item][empty] = average\n",
    "        ## Item Clustering\n",
    "        item_cluster = clustering('item', items, users, train_item_dict, 4)\n",
    "        ## Collaborative Filtering\n",
    "        accuracy_count = 0\n",
    "        precision_count = 0\n",
    "        recall_count = 0\n",
    "        pos_count = 0\n",
    "        neg_count = 0\n",
    "        rating_sum = 0\n",
    "        rating_count = 0\n",
    "        for test_item in test_items:\n",
    "            max_sim = -1\n",
    "            sim_items = []\n",
    "            for cluster_center in item_cluster:\n",
    "                sim = similarity('item', test_item, cluster_center, train_item_dict)\n",
    "                if sim > max_sim:\n",
    "                    sim_items = item_cluster[cluster_center]\n",
    "                for test_user in test_users:\n",
    "                    sim_rating_sum = 0\n",
    "                    sim_sum = 0\n",
    "                    for compare_item in sim_items:\n",
    "                        rating = train_item_dict[compare_item][test_user]\n",
    "                        if compare_item in train_items and not np.isnan(rating):\n",
    "                            sim = similarity('item', test_item, compare_item, train_item_dict)\n",
    "                            sim_sum += sim\n",
    "                            sim_rating_sum += sim * rating\n",
    "                    if sim_sum == 0: continue\n",
    "                    prediction = sim_rating_sum / sim_sum\n",
    "                    real_rating = org_user_dict[test_user][test_item]\n",
    "                    if not np.isnan(real_rating):\n",
    "                        rating_sum += abs(prediction - real_rating)\n",
    "                        rating_count += 1\n",
    "                        if prediction >= 0.5:\n",
    "                            pos_count += 1\n",
    "                        if real_rating == 1:\n",
    "                            neg_count += 1\n",
    "                        if prediction < 0.5 and real_rating == 0:\n",
    "                            accuracy_count += 1\n",
    "                        if prediction >= 0.5 and real_rating == 1:\n",
    "                            accuracy_count += 1\n",
    "                            precision_count += 1\n",
    "                            recall_count += 1\n",
    "                        \n",
    "        if rating_count == 0: continue\n",
    "        total_accuracy += accuracy_count / rating_count\n",
    "        total_precision += precision_count / pos_count\n",
    "        total_recall += recall_count / neg_count\n",
    "        tmp_result = rating_sum / rating_count\n",
    "        total_sum += tmp_result\n",
    "\n",
    "a_result = total_accuracy / total_count\n",
    "p_result = total_precision / total_count\n",
    "r_result = total_recall / total_count\n",
    "MAE = total_sum / total_count\n",
    "print('-------------------------------------------')\n",
    "print(f'MAE: {MAE}')\n",
    "print(f'precision: {p_result}')  \n",
    "print(f'recall: {r_result}')  \n",
    "print(f'accuracy: {a_result}')  "
   ]
  },
  {
   "cell_type": "code",
   "execution_count": null,
   "metadata": {},
   "outputs": [],
   "source": []
  }
 ]
}